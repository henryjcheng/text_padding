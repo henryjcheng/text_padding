{
 "metadata": {
  "language_info": {
   "codemirror_mode": {
    "name": "ipython",
    "version": 3
   },
   "file_extension": ".py",
   "mimetype": "text/x-python",
   "name": "python",
   "nbconvert_exporter": "python",
   "pygments_lexer": "ipython3",
   "version": "3.6.9-final"
  },
  "orig_nbformat": 2,
  "kernelspec": {
   "name": "python36964bitenvvenvfd612756f6c6490aad3c386173b6e2ee",
   "display_name": "Python 3.6.9 64-bit ('env': venv)"
  }
 },
 "nbformat": 4,
 "nbformat_minor": 2,
 "cells": [
  {
   "source": [
    "# Yelp Review Full - EDA\n",
    "* get a sense of what dataset looks like\n",
    "* get maximum token length for padding"
   ],
   "cell_type": "markdown",
   "metadata": {}
  },
  {
   "cell_type": "code",
   "execution_count": 1,
   "metadata": {},
   "outputs": [],
   "source": [
    "import pandas as pd"
   ]
  },
  {
   "cell_type": "code",
   "execution_count": 9,
   "metadata": {},
   "outputs": [
    {
     "output_type": "execute_result",
     "data": {
      "text/plain": [
       "5    10000\n",
       "4    10000\n",
       "3    10000\n",
       "2    10000\n",
       "1    10000\n",
       "Name: label, dtype: int64"
      ]
     },
     "metadata": {},
     "execution_count": 9
    }
   ],
   "source": [
    "df = pd.read_csv('../data/yelp_review_full/test.csv', names=['label', 'title', 'text'])\n",
    "df['label'].value_counts()"
   ]
  },
  {
   "source": [
    "# Word2Vec\n",
    "number of words in vocab"
   ],
   "cell_type": "markdown",
   "metadata": {}
  },
  {
   "cell_type": "code",
   "execution_count": 17,
   "metadata": {},
   "outputs": [
    {
     "output_type": "stream",
     "name": "stdout",
     "text": [
      "Dataset: amazon_review_polarity      Vocab length: 308293\n",
      "Dataset: amazon_review_full      Vocab length: 278564\n",
      "Dataset: dbpedia_ontology      Vocab length: 140361\n",
      "Dataset: yelp_review_full      Vocab length: 119256\n"
     ]
    }
   ],
   "source": [
    "from gensim.models import Word2Vec\n",
    "\n",
    "list_dataset = ['amazon_review_polarity', 'amazon_review_full', 'dbpedia_ontology', 'yelp_review_full']\n",
    "\n",
    "for dataset in list_dataset:\n",
    "    w2v = Word2Vec.load(f'../model/w2v/{dataset}.model')\n",
    "    len_vocab = len(w2v.wv.vocab)\n",
    "    \n",
    "    print(f'Dataset: {dataset}              Vocab length: {len_vocab}')\n",
    "\n"
   ]
  },
  {
   "source": [
    "# Dataset EDA\n",
    "\n",
    "To show that each categories have distinct words that may make prediction task easier."
   ],
   "cell_type": "markdown",
   "metadata": {}
  },
  {
   "cell_type": "code",
   "execution_count": 15,
   "metadata": {},
   "outputs": [
    {
     "output_type": "execute_result",
     "data": {
      "text/plain": [
       "   label                                               text\n",
       "0      0  dr. goldberg offers everything i look for in a...\n",
       "1      2  Unfortunately, the frustration of being Dr. Go...\n",
       "2      4  Been going to Dr. Goldberg for over 10 years. ..."
      ],
      "text/html": "<div>\n<style scoped>\n    .dataframe tbody tr th:only-of-type {\n        vertical-align: middle;\n    }\n\n    .dataframe tbody tr th {\n        vertical-align: top;\n    }\n\n    .dataframe thead th {\n        text-align: right;\n    }\n</style>\n<table border=\"1\" class=\"dataframe\">\n  <thead>\n    <tr style=\"text-align: right;\">\n      <th></th>\n      <th>label</th>\n      <th>text</th>\n    </tr>\n  </thead>\n  <tbody>\n    <tr>\n      <th>0</th>\n      <td>0</td>\n      <td>dr. goldberg offers everything i look for in a...</td>\n    </tr>\n    <tr>\n      <th>1</th>\n      <td>2</td>\n      <td>Unfortunately, the frustration of being Dr. Go...</td>\n    </tr>\n    <tr>\n      <th>2</th>\n      <td>4</td>\n      <td>Been going to Dr. Goldberg for over 10 years. ...</td>\n    </tr>\n  </tbody>\n</table>\n</div>"
     },
     "metadata": {},
     "execution_count": 15
    }
   ],
   "source": [
    "import pandas as pd\n",
    "dataset = 'yelp_review_full'\n",
    "data_path = f'../data/{dataset}/train.csv'\n",
    "nrows=None\n",
    "\n",
    "if dataset == 'ag_news':\n",
    "    df = pd.read_csv(data_path, nrows=nrows)\n",
    "    df['Class Index'] = df['Class Index'].replace(4, 0)\n",
    "    df = df.rename(columns={'Class Index':'label'})\n",
    "elif dataset == 'yelp_review_polarity':\n",
    "    nrows=50000    # so it fits into 32Gb RAM\n",
    "    df = pd.read_csv(data_path, nrows=nrows, names=['label', 'text'])\n",
    "    df['label'] = df['label'].replace(2, 0)\n",
    "elif dataset == 'yelp_review_full':\n",
    "    nrows=50000\n",
    "    df = pd.read_csv(data_path, nrows=nrows, names=['label', 'text'])\n",
    "    df['label'] = df['label'].replace(5, 0)\n",
    "elif dataset == 'dbpedia_ontology':\n",
    "    df = pd.read_csv(data_path, names=['label', 'title', 'text']).sample(n=50000, random_state=1)\n",
    "    df['label'] = df['label'].replace(14, 0)\n",
    "elif dataset == 'amazon_review_polarity':\n",
    "    df = pd.read_csv(data_path, names=['label', 'title', 'text']).sample(n=50000, random_state=1)\n",
    "    df['label'] = df['label'].replace(2, 0)\n",
    "elif dataset == 'amazon_review_full':\n",
    "    df = pd.read_csv(data_path, names=['label', 'title', 'text']).sample(n=50000, random_state=1)\n",
    "    df['label'] = df['label'].replace(5, 0)\n",
    "\n",
    "df.head(3)"
   ]
  },
  {
   "cell_type": "code",
   "execution_count": 14,
   "metadata": {},
   "outputs": [
    {
     "output_type": "execute_result",
     "data": {
      "text/plain": [
       "    label                                               text\n",
       "1       0  Been going to Dr. Goldberg for over 10 years. ...\n",
       "4       0  All the food is great here. But the best thing...\n",
       "8       0  Before I finally made it over to this range I ...\n",
       "9       0  I drove by yesterday to get a sneak peak.  It ...\n",
       "11      0  Wonderful reuben.  Map shown on Yelp page is i...\n",
       "12      0  After a morning of Thrift Store hunting, a fri...\n",
       "13      0  This is a hidden gem, no really. It took us fo...\n",
       "14      0  Awesome drink specials during happy hour. Fant...\n",
       "19      0  I've been informed by a fellow Yelper that the...\n",
       "25      0  If you are searching for a go to fish place fo...\n",
       "26      0  Italian dinners, American, endless soup and sa...\n",
       "27      0  Good Luck getting a seat, that's all I have to...\n",
       "28      0  The biggest breakfast in Pittsburgh, as far as...\n",
       "29      0  Cheap, unpretentious, and, for this, one of my...\n",
       "30      0  I've lived in Pittsburgh for 6 years, and in C...\n",
       "31      0  Definitely a greasy spoon! Always packed here ...\n",
       "32      0  Classic breakfast joint.  Grimy looking hole i...\n",
       "33      0  Best breakfast spot in the area, If you like d...\n",
       "34      0  I always love a good diner.  Gab and Eat was j...\n",
       "35      0  Barb's Country Junction gets a 5 star rating f..."
      ],
      "text/html": "<div>\n<style scoped>\n    .dataframe tbody tr th:only-of-type {\n        vertical-align: middle;\n    }\n\n    .dataframe tbody tr th {\n        vertical-align: top;\n    }\n\n    .dataframe thead th {\n        text-align: right;\n    }\n</style>\n<table border=\"1\" class=\"dataframe\">\n  <thead>\n    <tr style=\"text-align: right;\">\n      <th></th>\n      <th>label</th>\n      <th>text</th>\n    </tr>\n  </thead>\n  <tbody>\n    <tr>\n      <th>1</th>\n      <td>0</td>\n      <td>Been going to Dr. Goldberg for over 10 years. ...</td>\n    </tr>\n    <tr>\n      <th>4</th>\n      <td>0</td>\n      <td>All the food is great here. But the best thing...</td>\n    </tr>\n    <tr>\n      <th>8</th>\n      <td>0</td>\n      <td>Before I finally made it over to this range I ...</td>\n    </tr>\n    <tr>\n      <th>9</th>\n      <td>0</td>\n      <td>I drove by yesterday to get a sneak peak.  It ...</td>\n    </tr>\n    <tr>\n      <th>11</th>\n      <td>0</td>\n      <td>Wonderful reuben.  Map shown on Yelp page is i...</td>\n    </tr>\n    <tr>\n      <th>12</th>\n      <td>0</td>\n      <td>After a morning of Thrift Store hunting, a fri...</td>\n    </tr>\n    <tr>\n      <th>13</th>\n      <td>0</td>\n      <td>This is a hidden gem, no really. It took us fo...</td>\n    </tr>\n    <tr>\n      <th>14</th>\n      <td>0</td>\n      <td>Awesome drink specials during happy hour. Fant...</td>\n    </tr>\n    <tr>\n      <th>19</th>\n      <td>0</td>\n      <td>I've been informed by a fellow Yelper that the...</td>\n    </tr>\n    <tr>\n      <th>25</th>\n      <td>0</td>\n      <td>If you are searching for a go to fish place fo...</td>\n    </tr>\n    <tr>\n      <th>26</th>\n      <td>0</td>\n      <td>Italian dinners, American, endless soup and sa...</td>\n    </tr>\n    <tr>\n      <th>27</th>\n      <td>0</td>\n      <td>Good Luck getting a seat, that's all I have to...</td>\n    </tr>\n    <tr>\n      <th>28</th>\n      <td>0</td>\n      <td>The biggest breakfast in Pittsburgh, as far as...</td>\n    </tr>\n    <tr>\n      <th>29</th>\n      <td>0</td>\n      <td>Cheap, unpretentious, and, for this, one of my...</td>\n    </tr>\n    <tr>\n      <th>30</th>\n      <td>0</td>\n      <td>I've lived in Pittsburgh for 6 years, and in C...</td>\n    </tr>\n    <tr>\n      <th>31</th>\n      <td>0</td>\n      <td>Definitely a greasy spoon! Always packed here ...</td>\n    </tr>\n    <tr>\n      <th>32</th>\n      <td>0</td>\n      <td>Classic breakfast joint.  Grimy looking hole i...</td>\n    </tr>\n    <tr>\n      <th>33</th>\n      <td>0</td>\n      <td>Best breakfast spot in the area, If you like d...</td>\n    </tr>\n    <tr>\n      <th>34</th>\n      <td>0</td>\n      <td>I always love a good diner.  Gab and Eat was j...</td>\n    </tr>\n    <tr>\n      <th>35</th>\n      <td>0</td>\n      <td>Barb's Country Junction gets a 5 star rating f...</td>\n    </tr>\n  </tbody>\n</table>\n</div>"
     },
     "metadata": {},
     "execution_count": 14
    }
   ],
   "source": [
    "df[df['label'] == 0].head(20)"
   ]
  },
  {
   "cell_type": "code",
   "execution_count": null,
   "metadata": {},
   "outputs": [],
   "source": []
  }
 ]
}