{
 "cells": [
  {
   "cell_type": "code",
   "execution_count": 1,
   "metadata": {},
   "outputs": [],
   "source": [
    "import numpy as np\n",
    "import pandas as pd"
   ]
  },
  {
   "cell_type": "code",
   "execution_count": 2,
   "metadata": {},
   "outputs": [
    {
     "output_type": "execute_result",
     "data": {
      "text/html": "<div>\n<style scoped>\n    .dataframe tbody tr th:only-of-type {\n        vertical-align: middle;\n    }\n\n    .dataframe tbody tr th {\n        vertical-align: top;\n    }\n\n    .dataframe thead th {\n        text-align: right;\n    }\n</style>\n<table border=\"1\" class=\"dataframe\">\n  <thead>\n    <tr style=\"text-align: right;\">\n      <th></th>\n      <th>Class Index</th>\n      <th>Title</th>\n      <th>Description</th>\n      <th>text_token</th>\n      <th>embedding</th>\n      <th>text_length</th>\n      <th>MP_bottom</th>\n      <th>MP_bothside</th>\n      <th>MP_random</th>\n      <th>cnn_bottom</th>\n      <th>cnn_bothside</th>\n      <th>cnn_random</th>\n      <th>cnn_kim_bottom</th>\n      <th>cnn_kim_bothside</th>\n      <th>cnn_kim_random</th>\n      <th>cnn_deep_bottom</th>\n      <th>cnn_deep_bothside</th>\n      <th>cnn_deep_random</th>\n    </tr>\n  </thead>\n  <tbody>\n    <tr>\n      <th>0</th>\n      <td>3</td>\n      <td>Fears for T N pension after talks</td>\n      <td>Unions representing workers at Turner   Newall...</td>\n      <td>['Unions', 'representing', 'workers', 'at', 'T...</td>\n      <td>[[ 0.          0.          0.         ...  0. ...</td>\n      <td>19</td>\n      <td>3</td>\n      <td>1</td>\n      <td>3</td>\n      <td>1</td>\n      <td>1</td>\n      <td>0</td>\n      <td>3</td>\n      <td>3</td>\n      <td>3</td>\n      <td>3</td>\n      <td>3</td>\n      <td>1</td>\n    </tr>\n    <tr>\n      <th>1</th>\n      <td>0</td>\n      <td>The Race is On: Second Private Team Sets Launc...</td>\n      <td>SPACE.com - TORONTO, Canada -- A second\\team o...</td>\n      <td>['SPACE.com', '-', 'TORONTO', ',', 'Canada', '...</td>\n      <td>[[ 0.          0.          0.         ...  0. ...</td>\n      <td>38</td>\n      <td>0</td>\n      <td>0</td>\n      <td>0</td>\n      <td>0</td>\n      <td>1</td>\n      <td>3</td>\n      <td>0</td>\n      <td>0</td>\n      <td>0</td>\n      <td>0</td>\n      <td>0</td>\n      <td>0</td>\n    </tr>\n    <tr>\n      <th>2</th>\n      <td>0</td>\n      <td>Ky. Company Wins Grant to Study Peptides (AP)</td>\n      <td>AP - A company founded by a chemistry research...</td>\n      <td>['AP', '-', 'A', 'company', 'founded', 'by', '...</td>\n      <td>[[ 0.          0.          0.         ...  0. ...</td>\n      <td>40</td>\n      <td>0</td>\n      <td>0</td>\n      <td>0</td>\n      <td>3</td>\n      <td>3</td>\n      <td>3</td>\n      <td>0</td>\n      <td>0</td>\n      <td>0</td>\n      <td>0</td>\n      <td>1</td>\n      <td>0</td>\n    </tr>\n    <tr>\n      <th>3</th>\n      <td>0</td>\n      <td>Prediction Unit Helps Forecast Wildfires (AP)</td>\n      <td>AP - It's barely dawn when Mike Fitzpatrick st...</td>\n      <td>['AP', '-', 'It', \"'s\", 'barely', 'dawn', 'whe...</td>\n      <td>[[ 0.0000000e+00  0.0000000e+00  0.0000000e+00...</td>\n      <td>56</td>\n      <td>2</td>\n      <td>1</td>\n      <td>2</td>\n      <td>2</td>\n      <td>2</td>\n      <td>2</td>\n      <td>2</td>\n      <td>1</td>\n      <td>2</td>\n      <td>2</td>\n      <td>3</td>\n      <td>0</td>\n    </tr>\n    <tr>\n      <th>4</th>\n      <td>0</td>\n      <td>Calif. Aims to Limit Farm-Related Smog (AP)</td>\n      <td>AP - Southern California's smog-fighting agenc...</td>\n      <td>['AP', '-', 'Southern', 'California', \"'s\", 'a...</td>\n      <td>[[ 0.          0.          0.         ...  0. ...</td>\n      <td>30</td>\n      <td>0</td>\n      <td>0</td>\n      <td>1</td>\n      <td>0</td>\n      <td>1</td>\n      <td>1</td>\n      <td>3</td>\n      <td>1</td>\n      <td>0</td>\n      <td>0</td>\n      <td>1</td>\n      <td>0</td>\n    </tr>\n  </tbody>\n</table>\n</div>",
      "text/plain": "   Class Index                                              Title  \\\n0            3                  Fears for T N pension after talks   \n1            0  The Race is On: Second Private Team Sets Launc...   \n2            0      Ky. Company Wins Grant to Study Peptides (AP)   \n3            0      Prediction Unit Helps Forecast Wildfires (AP)   \n4            0        Calif. Aims to Limit Farm-Related Smog (AP)   \n\n                                         Description  \\\n0  Unions representing workers at Turner   Newall...   \n1  SPACE.com - TORONTO, Canada -- A second\\team o...   \n2  AP - A company founded by a chemistry research...   \n3  AP - It's barely dawn when Mike Fitzpatrick st...   \n4  AP - Southern California's smog-fighting agenc...   \n\n                                          text_token  \\\n0  ['Unions', 'representing', 'workers', 'at', 'T...   \n1  ['SPACE.com', '-', 'TORONTO', ',', 'Canada', '...   \n2  ['AP', '-', 'A', 'company', 'founded', 'by', '...   \n3  ['AP', '-', 'It', \"'s\", 'barely', 'dawn', 'whe...   \n4  ['AP', '-', 'Southern', 'California', \"'s\", 'a...   \n\n                                           embedding  text_length  MP_bottom  \\\n0  [[ 0.          0.          0.         ...  0. ...           19          3   \n1  [[ 0.          0.          0.         ...  0. ...           38          0   \n2  [[ 0.          0.          0.         ...  0. ...           40          0   \n3  [[ 0.0000000e+00  0.0000000e+00  0.0000000e+00...           56          2   \n4  [[ 0.          0.          0.         ...  0. ...           30          0   \n\n   MP_bothside  MP_random  cnn_bottom  cnn_bothside  cnn_random  \\\n0            1          3           1             1           0   \n1            0          0           0             1           3   \n2            0          0           3             3           3   \n3            1          2           2             2           2   \n4            0          1           0             1           1   \n\n   cnn_kim_bottom  cnn_kim_bothside  cnn_kim_random  cnn_deep_bottom  \\\n0               3                 3               3                3   \n1               0                 0               0                0   \n2               0                 0               0                0   \n3               2                 1               2                2   \n4               3                 1               0                0   \n\n   cnn_deep_bothside  cnn_deep_random  \n0                  3                1  \n1                  0                0  \n2                  1                0  \n3                  3                0  \n4                  1                0  "
     },
     "metadata": {},
     "execution_count": 2
    }
   ],
   "source": [
    "df = pd.read_csv('../output/inference.csv')\n",
    "df.head()"
   ]
  },
  {
   "cell_type": "code",
   "execution_count": 3,
   "metadata": {},
   "outputs": [
    {
     "output_type": "execute_result",
     "data": {
      "text/html": "<div>\n<style scoped>\n    .dataframe tbody tr th:only-of-type {\n        vertical-align: middle;\n    }\n\n    .dataframe tbody tr th {\n        vertical-align: top;\n    }\n\n    .dataframe thead th {\n        text-align: right;\n    }\n</style>\n<table border=\"1\" class=\"dataframe\">\n  <thead>\n    <tr style=\"text-align: right;\">\n      <th></th>\n      <th>Description</th>\n      <th>Class Index</th>\n      <th>MP_bottom</th>\n      <th>flg_correct</th>\n    </tr>\n  </thead>\n  <tbody>\n    <tr>\n      <th>0</th>\n      <td>Unions representing workers at Turner   Newall...</td>\n      <td>3</td>\n      <td>3</td>\n      <td>1</td>\n    </tr>\n    <tr>\n      <th>1</th>\n      <td>SPACE.com - TORONTO, Canada -- A second\\team o...</td>\n      <td>0</td>\n      <td>0</td>\n      <td>1</td>\n    </tr>\n    <tr>\n      <th>2</th>\n      <td>AP - A company founded by a chemistry research...</td>\n      <td>0</td>\n      <td>0</td>\n      <td>1</td>\n    </tr>\n    <tr>\n      <th>3</th>\n      <td>AP - It's barely dawn when Mike Fitzpatrick st...</td>\n      <td>0</td>\n      <td>2</td>\n      <td>0</td>\n    </tr>\n    <tr>\n      <th>4</th>\n      <td>AP - Southern California's smog-fighting agenc...</td>\n      <td>0</td>\n      <td>0</td>\n      <td>1</td>\n    </tr>\n  </tbody>\n</table>\n</div>",
      "text/plain": "                                         Description  Class Index  MP_bottom  \\\n0  Unions representing workers at Turner   Newall...            3          3   \n1  SPACE.com - TORONTO, Canada -- A second\\team o...            0          0   \n2  AP - A company founded by a chemistry research...            0          0   \n3  AP - It's barely dawn when Mike Fitzpatrick st...            0          2   \n4  AP - Southern California's smog-fighting agenc...            0          0   \n\n   flg_correct  \n0            1  \n1            1  \n2            1  \n3            0  \n4            1  "
     },
     "metadata": {},
     "execution_count": 3
    }
   ],
   "source": [
    "df_inspect = df[['Description', 'Class Index', 'MP_bottom']].reset_index(drop=True)\n",
    "df_inspect['flg_correct'] = np.where(df['Class Index'] == df['MP_bottom'], 1, 0)\n",
    "\n",
    "df_inspect.head()"
   ]
  },
  {
   "cell_type": "code",
   "execution_count": 4,
   "metadata": {
    "tags": []
   },
   "outputs": [
    {
     "output_type": "execute_result",
     "data": {
      "text/plain": "1    6434\n0    1166\nName: flg_correct, dtype: int64"
     },
     "metadata": {},
     "execution_count": 4
    }
   ],
   "source": [
    "df_inspect['flg_correct'].value_counts()"
   ]
  },
  {
   "cell_type": "code",
   "execution_count": 7,
   "metadata": {},
   "outputs": [
    {
     "output_type": "execute_result",
     "data": {
      "text/html": "<div>\n<style scoped>\n    .dataframe tbody tr th:only-of-type {\n        vertical-align: middle;\n    }\n\n    .dataframe tbody tr th {\n        vertical-align: top;\n    }\n\n    .dataframe thead th {\n        text-align: right;\n    }\n</style>\n<table border=\"1\" class=\"dataframe\">\n  <thead>\n    <tr style=\"text-align: right;\">\n      <th></th>\n      <th>Description</th>\n      <th>Class Index</th>\n      <th>MP_bottom</th>\n      <th>flg_correct</th>\n    </tr>\n  </thead>\n  <tbody>\n    <tr>\n      <th>3</th>\n      <td>AP - It's barely dawn when Mike Fitzpatrick st...</td>\n      <td>0</td>\n      <td>2</td>\n      <td>0</td>\n    </tr>\n    <tr>\n      <th>8</th>\n      <td>Wiltshire Police warns about \"phishing\" after ...</td>\n      <td>0</td>\n      <td>1</td>\n      <td>0</td>\n    </tr>\n    <tr>\n      <th>10</th>\n      <td>LOS ANGELES (Reuters) - A group of technology...</td>\n      <td>0</td>\n      <td>3</td>\n      <td>0</td>\n    </tr>\n    <tr>\n      <th>18</th>\n      <td>When did life begin? One evidential clue stems...</td>\n      <td>0</td>\n      <td>3</td>\n      <td>0</td>\n    </tr>\n    <tr>\n      <th>23</th>\n      <td>Google has billed its IPO as a way for everyda...</td>\n      <td>0</td>\n      <td>3</td>\n      <td>0</td>\n    </tr>\n    <tr>\n      <th>...</th>\n      <td>...</td>\n      <td>...</td>\n      <td>...</td>\n      <td>...</td>\n    </tr>\n    <tr>\n      <th>7579</th>\n      <td>The head of plane maker Airbus yesterday won a...</td>\n      <td>3</td>\n      <td>2</td>\n      <td>0</td>\n    </tr>\n    <tr>\n      <th>7581</th>\n      <td>Standard  amp; Poor #39;s Equity Research said...</td>\n      <td>3</td>\n      <td>0</td>\n      <td>0</td>\n    </tr>\n    <tr>\n      <th>7585</th>\n      <td>The \\$500 billion drug industry is stumbling b...</td>\n      <td>1</td>\n      <td>3</td>\n      <td>0</td>\n    </tr>\n    <tr>\n      <th>7589</th>\n      <td>NEW YORK - The TV lights were on, the cameras ...</td>\n      <td>2</td>\n      <td>1</td>\n      <td>0</td>\n    </tr>\n    <tr>\n      <th>7595</th>\n      <td>Ukrainian presidential candidate Viktor Yushch...</td>\n      <td>1</td>\n      <td>0</td>\n      <td>0</td>\n    </tr>\n  </tbody>\n</table>\n<p>1166 rows × 4 columns</p>\n</div>",
      "text/plain": "                                            Description  Class Index  \\\n3     AP - It's barely dawn when Mike Fitzpatrick st...            0   \n8     Wiltshire Police warns about \"phishing\" after ...            0   \n10     LOS ANGELES (Reuters) - A group of technology...            0   \n18    When did life begin? One evidential clue stems...            0   \n23    Google has billed its IPO as a way for everyda...            0   \n...                                                 ...          ...   \n7579  The head of plane maker Airbus yesterday won a...            3   \n7581  Standard  amp; Poor #39;s Equity Research said...            3   \n7585  The \\$500 billion drug industry is stumbling b...            1   \n7589  NEW YORK - The TV lights were on, the cameras ...            2   \n7595  Ukrainian presidential candidate Viktor Yushch...            1   \n\n      MP_bottom  flg_correct  \n3             2            0  \n8             1            0  \n10            3            0  \n18            3            0  \n23            3            0  \n...         ...          ...  \n7579          2            0  \n7581          0            0  \n7585          3            0  \n7589          1            0  \n7595          0            0  \n\n[1166 rows x 4 columns]"
     },
     "metadata": {},
     "execution_count": 7
    }
   ],
   "source": [
    "# all the incorrect ones\n",
    "df_inspect[df_inspect['flg_correct'] == 0]"
   ]
  },
  {
   "cell_type": "markdown",
   "metadata": {},
   "source": [
    "# Inspection - Class 0\n",
    "* look at summary statistics of text length"
   ]
  },
  {
   "cell_type": "code",
   "execution_count": 12,
   "metadata": {},
   "outputs": [
    {
     "output_type": "execute_result",
     "data": {
      "text/html": "<div>\n<style scoped>\n    .dataframe tbody tr th:only-of-type {\n        vertical-align: middle;\n    }\n\n    .dataframe tbody tr th {\n        vertical-align: top;\n    }\n\n    .dataframe thead th {\n        text-align: right;\n    }\n</style>\n<table border=\"1\" class=\"dataframe\">\n  <thead>\n    <tr style=\"text-align: right;\">\n      <th></th>\n      <th>Description</th>\n      <th>Class Index</th>\n      <th>MP_bottom</th>\n      <th>flg_correct</th>\n      <th>text_length</th>\n    </tr>\n  </thead>\n  <tbody>\n    <tr>\n      <th>0</th>\n      <td>SPACE.com - TORONTO, Canada -- A second\\team o...</td>\n      <td>0</td>\n      <td>0</td>\n      <td>1</td>\n      <td>234</td>\n    </tr>\n    <tr>\n      <th>1</th>\n      <td>AP - A company founded by a chemistry research...</td>\n      <td>0</td>\n      <td>0</td>\n      <td>1</td>\n      <td>214</td>\n    </tr>\n    <tr>\n      <th>2</th>\n      <td>AP - It's barely dawn when Mike Fitzpatrick st...</td>\n      <td>0</td>\n      <td>2</td>\n      <td>0</td>\n      <td>272</td>\n    </tr>\n    <tr>\n      <th>3</th>\n      <td>AP - Southern California's smog-fighting agenc...</td>\n      <td>0</td>\n      <td>0</td>\n      <td>1</td>\n      <td>179</td>\n    </tr>\n    <tr>\n      <th>4</th>\n      <td>The British Department for Education and Skill...</td>\n      <td>0</td>\n      <td>0</td>\n      <td>1</td>\n      <td>780</td>\n    </tr>\n  </tbody>\n</table>\n</div>",
      "text/plain": "                                         Description  Class Index  MP_bottom  \\\n0  SPACE.com - TORONTO, Canada -- A second\\team o...            0          0   \n1  AP - A company founded by a chemistry research...            0          0   \n2  AP - It's barely dawn when Mike Fitzpatrick st...            0          2   \n3  AP - Southern California's smog-fighting agenc...            0          0   \n4  The British Department for Education and Skill...            0          0   \n\n   flg_correct  text_length  \n0            1          234  \n1            1          214  \n2            0          272  \n3            1          179  \n4            1          780  "
     },
     "metadata": {},
     "execution_count": 12
    }
   ],
   "source": [
    "# all the class 0's\n",
    "df_class0 = df_inspect[df_inspect['Class Index'] == 0].reset_index(drop=True)\n",
    "df_class0['text_length'] = df_class0['Description'].apply(lambda x: len(x))\n",
    "df_class0.head()\n"
   ]
  },
  {
   "cell_type": "code",
   "execution_count": 16,
   "metadata": {},
   "outputs": [
    {
     "output_type": "display_data",
     "data": {
      "text/plain": "count    1600.00000\nmean      195.35875\nstd        84.67504\nmin        37.00000\n25%       148.00000\n50%       186.00000\n75%       222.25000\nmax       830.00000\nName: text_length, dtype: float64"
     },
     "metadata": {}
    },
    {
     "output_type": "display_data",
     "data": {
      "text/plain": "count    300.000000\nmean     186.446667\nstd       61.910718\nmin       53.000000\n25%      143.750000\n50%      181.000000\n75%      217.000000\nmax      503.000000\nName: text_length, dtype: float64"
     },
     "metadata": {}
    }
   ],
   "source": [
    "# check summary\n",
    "display(df_class0[df_class0['flg_correct'] == 1]['text_length'].describe())\n",
    "display(df_class0[df_class0['flg_correct'] == 0]['text_length'].describe())"
   ]
  },
  {
   "cell_type": "code",
   "execution_count": 28,
   "metadata": {
    "tags": []
   },
   "outputs": [
    {
     "output_type": "stream",
     "name": "stdout",
     "text": "Text: \nWiltshire Police warns about \"phishing\" after its fraud squad chief was targeted.\n\nPrediction: \n1\n"
    }
   ],
   "source": [
    "index = 1\n",
    "print('Text: ')\n",
    "print(df_class0[df_class0['flg_correct'] == 0]['Description'].reset_index(drop=True)[index])\n",
    "\n",
    "print('\\nPrediction: ')\n",
    "print(df_class0[df_class0['flg_correct'] == 0]['MP_bottom'].reset_index(drop=True)[index])\n"
   ]
  },
  {
   "cell_type": "code",
   "execution_count": null,
   "metadata": {},
   "outputs": [],
   "source": []
  }
 ],
 "metadata": {
  "language_info": {
   "codemirror_mode": {
    "name": "ipython",
    "version": 3
   },
   "file_extension": ".py",
   "mimetype": "text/x-python",
   "name": "python",
   "nbconvert_exporter": "python",
   "pygments_lexer": "ipython3",
   "version": "2.7.17-final"
  },
  "orig_nbformat": 2,
  "kernelspec": {
   "name": "python36964bitenvvenvfd612756f6c6490aad3c386173b6e2ee",
   "display_name": "Python 3.6.9 64-bit ('env': venv)"
  }
 },
 "nbformat": 4,
 "nbformat_minor": 2
}